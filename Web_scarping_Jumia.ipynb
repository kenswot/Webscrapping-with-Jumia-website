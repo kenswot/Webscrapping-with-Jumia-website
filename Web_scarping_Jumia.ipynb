{
  "nbformat": 4,
  "nbformat_minor": 0,
  "metadata": {
    "colab": {
      "name": "Web scarping Jumia.ipynb",
      "provenance": [],
      "collapsed_sections": []
    },
    "kernelspec": {
      "name": "python3",
      "display_name": "Python 3"
    },
    "language_info": {
      "name": "python"
    }
  },
  "cells": [
    {
      "cell_type": "markdown",
      "source": [
        "## Web Scarping all the Laptops and Prices in Jumia with Data Science"
      ],
      "metadata": {
        "id": "870zjMb_aweb"
      }
    },
    {
      "cell_type": "markdown",
      "source": [
        "### Importing liberaries used"
      ],
      "metadata": {
        "id": "6FthUUotbUcV"
      }
    },
    {
      "cell_type": "code",
      "execution_count": null,
      "metadata": {
        "id": "b4y3K31ISIGW"
      },
      "outputs": [],
      "source": [
        "\n",
        "## Import the import Libraries\n",
        "import pandas as pd\n",
        "import requests\n",
        "from bs4 import BeautifulSoup"
      ]
    },
    {
      "cell_type": "markdown",
      "source": [
        "## Get the Data"
      ],
      "metadata": {
        "id": "Sis-uAoia90B"
      }
    },
    {
      "cell_type": "code",
      "source": [
        "\n",
        "ourdata = \"https://www.jumia.com.ng/laptops//\"\n",
        "page = requests.get(ourdata)\n",
        "soup = BeautifulSoup(page.text, \"html.parser\")"
      ],
      "metadata": {
        "id": "S_SSHL_rSbSy"
      },
      "execution_count": null,
      "outputs": []
    },
    {
      "cell_type": "markdown",
      "source": [
        "## Define Product Name"
      ],
      "metadata": {
        "id": "UYxrmD-lbCDp"
      }
    },
    {
      "cell_type": "code",
      "source": [
        "## Product Name\n",
        "Prd_name = []\n",
        "name_element = soup.find_all(\"h3\", {\"class\":\"name\"})\n",
        "for item in name_element:\n",
        "    Prd_name.append(item.text)"
      ],
      "metadata": {
        "id": "mQHgR8MzVD02"
      },
      "execution_count": null,
      "outputs": []
    },
    {
      "cell_type": "markdown",
      "source": [
        "## Define Product Prices"
      ],
      "metadata": {
        "id": "7JT61DGUbHEe"
      }
    },
    {
      "cell_type": "code",
      "source": [
        "## Product Price\n",
        "Prd_price= []\n",
        "name_element = soup.find_all(\"div\", {\"class\":\"prc\"})\n",
        "for item in name_element:\n",
        "    Prd_price.append(item.text)"
      ],
      "metadata": {
        "id": "RR_IS-hfWTVe"
      },
      "execution_count": null,
      "outputs": []
    },
    {
      "cell_type": "code",
      "source": [
        "combine = []\n",
        "for name, price in zip(Prd_name, Prd_price):\n",
        "    combine.append({\"Product name\": name, \"Product price\": price})\n",
        "df = pd.DataFrame(combine)"
      ],
      "metadata": {
        "id": "w7Kp0n82XMDI"
      },
      "execution_count": null,
      "outputs": []
    },
    {
      "cell_type": "markdown",
      "source": [
        "## View all Products and Prices"
      ],
      "metadata": {
        "id": "aqJOnXAZbLmF"
      }
    },
    {
      "cell_type": "code",
      "source": [
        "df"
      ],
      "metadata": {
        "colab": {
          "base_uri": "https://localhost:8080/",
          "height": 1000
        },
        "id": "-46DPlTJW9vV",
        "outputId": "77759bb4-ef58-4c00-b5c5-3cbd302a0adb"
      },
      "execution_count": null,
      "outputs": [
        {
          "output_type": "execute_result",
          "data": {
            "text/html": [
              "<div>\n",
              "<style scoped>\n",
              "    .dataframe tbody tr th:only-of-type {\n",
              "        vertical-align: middle;\n",
              "    }\n",
              "\n",
              "    .dataframe tbody tr th {\n",
              "        vertical-align: top;\n",
              "    }\n",
              "\n",
              "    .dataframe thead th {\n",
              "        text-align: right;\n",
              "    }\n",
              "</style>\n",
              "<table border=\"1\" class=\"dataframe\">\n",
              "  <thead>\n",
              "    <tr style=\"text-align: right;\">\n",
              "      <th></th>\n",
              "      <th>Product name</th>\n",
              "      <th>Product price</th>\n",
              "    </tr>\n",
              "  </thead>\n",
              "  <tbody>\n",
              "    <tr>\n",
              "      <th>0</th>\n",
              "      <td>Hp HP 15-dw1212nia INTEL CELERON N4020 4GB/1TB...</td>\n",
              "      <td>₦ 250,000</td>\n",
              "    </tr>\n",
              "    <tr>\n",
              "      <th>1</th>\n",
              "      <td>Hp 15 AMD - 12GB RAM 1TB HDD Windows 10 Pro- 2...</td>\n",
              "      <td>₦ 167,900</td>\n",
              "    </tr>\n",
              "    <tr>\n",
              "      <th>2</th>\n",
              "      <td>Hp 14 AMD ATHLON SILVER 8GB RAM 1TB HDD Window...</td>\n",
              "      <td>₦ 166,500</td>\n",
              "    </tr>\n",
              "    <tr>\n",
              "      <th>3</th>\n",
              "      <td>Hp 14-CF2206NIA LAPTOP (PENTIUM SILVER N5030/4...</td>\n",
              "      <td>₦ 1,395,000</td>\n",
              "    </tr>\n",
              "    <tr>\n",
              "      <th>4</th>\n",
              "      <td>Lenovo Ideapad Amd Dual Core 4GB RAM 1TB HDD 1...</td>\n",
              "      <td>₦ 165,000</td>\n",
              "    </tr>\n",
              "    <tr>\n",
              "      <th>5</th>\n",
              "      <td>Lenovo Ideapad 14inch AMD Quad Core 1TB HDD 8G...</td>\n",
              "      <td>₦ 204,000</td>\n",
              "    </tr>\n",
              "    <tr>\n",
              "      <th>6</th>\n",
              "      <td>Hp 15- Touchscreen Intel Core™ I3-10110U,8GB,1...</td>\n",
              "      <td>₦ 199,920</td>\n",
              "    </tr>\n",
              "    <tr>\n",
              "      <th>7</th>\n",
              "      <td>Hp Stream 11 Intel Celeron D/C  4GB RAM- 64GB ...</td>\n",
              "      <td>₦ 180,000</td>\n",
              "    </tr>\n",
              "    <tr>\n",
              "      <th>8</th>\n",
              "      <td>Anti Blue Rays,Anti Blue Light Blocking Glasse...</td>\n",
              "      <td>₦ 155,950</td>\n",
              "    </tr>\n",
              "    <tr>\n",
              "      <th>9</th>\n",
              "      <td>Lenovo Ideapad 14inch AMD Quad Core 1TB HDD 8G...</td>\n",
              "      <td>₦ 183,500</td>\n",
              "    </tr>\n",
              "    <tr>\n",
              "      <th>10</th>\n",
              "      <td>Lenovo Ideapad 15 - AMD QUAD CORE 1TB HDD 8GB ...</td>\n",
              "      <td>₦ 268,000</td>\n",
              "    </tr>\n",
              "    <tr>\n",
              "      <th>11</th>\n",
              "      <td>Lenovo IdeaPad S150 14\" AMD A6 4GB RAM 64GB EM...</td>\n",
              "      <td>₦ 127,000</td>\n",
              "    </tr>\n",
              "    <tr>\n",
              "      <th>12</th>\n",
              "      <td>Hp 15 10th Gen Intel Core I3 (12GB,1TB HDD)Tou...</td>\n",
              "      <td>₦ 2,500</td>\n",
              "    </tr>\n",
              "    <tr>\n",
              "      <th>13</th>\n",
              "      <td>Lenovo Ideapad  Intel Celeron 1TB HDD 8GB RAM ...</td>\n",
              "      <td>₦ 173,500</td>\n",
              "    </tr>\n",
              "    <tr>\n",
              "      <th>14</th>\n",
              "      <td>Hp Stream 11 Intel Celeron 2GB RAM- 32GB HDD W...</td>\n",
              "      <td>₦ 168,000</td>\n",
              "    </tr>\n",
              "    <tr>\n",
              "      <th>15</th>\n",
              "      <td>Hp Stream 11 Intel Celeron D/C  4GB RAM- 32GB ...</td>\n",
              "      <td>₦ 149,150</td>\n",
              "    </tr>\n",
              "    <tr>\n",
              "      <th>16</th>\n",
              "      <td>Hp 15 AMD - 12GB RAM 1TB HDD Windows 10 Pro- 2...</td>\n",
              "      <td>₦ 264,500</td>\n",
              "    </tr>\n",
              "    <tr>\n",
              "      <th>17</th>\n",
              "      <td>Hp 15-DW1207NIA LAPTOP (CEL-N4020/4GB/500GB/15...</td>\n",
              "      <td>₦ 179,800</td>\n",
              "    </tr>\n",
              "    <tr>\n",
              "      <th>18</th>\n",
              "      <td>Lenovo Ideapad 14 - AMD QUAD CORE 1TB HDD 4GB ...</td>\n",
              "      <td>₦ 115,000</td>\n",
              "    </tr>\n",
              "    <tr>\n",
              "      <th>19</th>\n",
              "      <td>Multifunctional Laptop Foldable Table,Bed Side...</td>\n",
              "      <td>₦ 155,000</td>\n",
              "    </tr>\n",
              "    <tr>\n",
              "      <th>20</th>\n",
              "      <td>Hp Stream 11 Intel Celeron D/C  4GB RAM- 64GB ...</td>\n",
              "      <td>₦ 245,000</td>\n",
              "    </tr>\n",
              "    <tr>\n",
              "      <th>21</th>\n",
              "      <td>Hp Stream 11 Intel Celeron D/C  4GB RAM- 32GB ...</td>\n",
              "      <td>₦ 165,300</td>\n",
              "    </tr>\n",
              "    <tr>\n",
              "      <th>22</th>\n",
              "      <td>Hp Notebook15 Intel Core I3 Touchscreen 16GB R...</td>\n",
              "      <td>₦ 158,000</td>\n",
              "    </tr>\n",
              "    <tr>\n",
              "      <th>23</th>\n",
              "      <td>Hp Stream 11 Pro- Intel Celeron- Education Edi...</td>\n",
              "      <td>₦ 6,500</td>\n",
              "    </tr>\n",
              "    <tr>\n",
              "      <th>24</th>\n",
              "      <td>Hp Stream 11 Intel Celeron D/C  4GB RAM- 64GB ...</td>\n",
              "      <td>₦ 127,000</td>\n",
              "    </tr>\n",
              "    <tr>\n",
              "      <th>25</th>\n",
              "      <td>Hp 15 AMD - 8GB RAM 1TB HDD Windows 10 Pro- 2....</td>\n",
              "      <td>₦ 145,000</td>\n",
              "    </tr>\n",
              "    <tr>\n",
              "      <th>26</th>\n",
              "      <td>Lenovo 14inch AMD Pro A6-7350B 1TB HDD 8GB RAM...</td>\n",
              "      <td>₦ 277,000</td>\n",
              "    </tr>\n",
              "    <tr>\n",
              "      <th>27</th>\n",
              "      <td>Hp Stream 11 Intel Celeron D/C  4GB RAM- 64GB ...</td>\n",
              "      <td>₦ 127,000</td>\n",
              "    </tr>\n",
              "    <tr>\n",
              "      <th>28</th>\n",
              "      <td>Hp Stream 11 Intel Celeron D/C  4GB RAM- 64GB ...</td>\n",
              "      <td>₦ 127,000</td>\n",
              "    </tr>\n",
              "    <tr>\n",
              "      <th>29</th>\n",
              "      <td>Hp Pavilion 15 Intel CELERON 4GB RAM 1TB HDD W...</td>\n",
              "      <td>₦ 195,000</td>\n",
              "    </tr>\n",
              "    <tr>\n",
              "      <th>30</th>\n",
              "      <td>Hp 15 Intel Celeron N4020 8GB RAM 1TB HDD 15.6...</td>\n",
              "      <td>₦ 176,000</td>\n",
              "    </tr>\n",
              "    <tr>\n",
              "      <th>31</th>\n",
              "      <td>Lenovo Ideapad  Intel Celeron 1TB HDD 4GB RAM ...</td>\n",
              "      <td>₦ 127,000</td>\n",
              "    </tr>\n",
              "    <tr>\n",
              "      <th>32</th>\n",
              "      <td>Hp Stream 11 Intel Celeron 4GB RAM / 64GB HDD ...</td>\n",
              "      <td>₦ 125,000</td>\n",
              "    </tr>\n",
              "    <tr>\n",
              "      <th>33</th>\n",
              "      <td>Hp AMD DUAL CORE 14'' 12GB RAM - 1TB HDD Windo...</td>\n",
              "      <td>₦ 195,000</td>\n",
              "    </tr>\n",
              "    <tr>\n",
              "      <th>34</th>\n",
              "      <td>Hp Stream11Intel Celeron(32gb Mmc,2gb RAM)\"11-...</td>\n",
              "      <td>₦ 203,000</td>\n",
              "    </tr>\n",
              "    <tr>\n",
              "      <th>35</th>\n",
              "      <td>Asus E410MA Intel Celeron 4GB RAM 128GB 14-Inc...</td>\n",
              "      <td>₦ 163,000</td>\n",
              "    </tr>\n",
              "    <tr>\n",
              "      <th>36</th>\n",
              "      <td>Hp Notebook 15 Intel Core I3 (4GB RAM, 1TB HDD...</td>\n",
              "      <td>₦ 126,700</td>\n",
              "    </tr>\n",
              "    <tr>\n",
              "      <th>37</th>\n",
              "      <td>Lenovo INTEL® CELERON® Lenovo 4GB RAM DDR4-1TB...</td>\n",
              "      <td>₦ 200,000</td>\n",
              "    </tr>\n",
              "    <tr>\n",
              "      <th>38</th>\n",
              "      <td>Hp 15 AMD - 12GB RAM 1TB HDD Windows 10 Pro- 2...</td>\n",
              "      <td>₦ 126,000</td>\n",
              "    </tr>\n",
              "    <tr>\n",
              "      <th>39</th>\n",
              "      <td>Lenovo Ideapad 15 - AMD QUAD CORE 1TB HDD 4GB ...</td>\n",
              "      <td>₦ 154,990</td>\n",
              "    </tr>\n",
              "    <tr>\n",
              "      <th>40</th>\n",
              "      <td></td>\n",
              "      <td>₦ 265,000</td>\n",
              "    </tr>\n",
              "    <tr>\n",
              "      <th>41</th>\n",
              "      <td></td>\n",
              "      <td>₦ 165,459</td>\n",
              "    </tr>\n",
              "    <tr>\n",
              "      <th>42</th>\n",
              "      <td></td>\n",
              "      <td>₦ 204,000</td>\n",
              "    </tr>\n",
              "    <tr>\n",
              "      <th>43</th>\n",
              "      <td></td>\n",
              "      <td>₦ 158,000</td>\n",
              "    </tr>\n",
              "    <tr>\n",
              "      <th>44</th>\n",
              "      <td></td>\n",
              "      <td></td>\n",
              "    </tr>\n",
              "    <tr>\n",
              "      <th>45</th>\n",
              "      <td></td>\n",
              "      <td></td>\n",
              "    </tr>\n",
              "    <tr>\n",
              "      <th>46</th>\n",
              "      <td></td>\n",
              "      <td></td>\n",
              "    </tr>\n",
              "    <tr>\n",
              "      <th>47</th>\n",
              "      <td></td>\n",
              "      <td></td>\n",
              "    </tr>\n",
              "  </tbody>\n",
              "</table>\n",
              "</div>"
            ],
            "text/plain": [
              "                                         Product name Product price\n",
              "0   Hp HP 15-dw1212nia INTEL CELERON N4020 4GB/1TB...     ₦ 250,000\n",
              "1   Hp 15 AMD - 12GB RAM 1TB HDD Windows 10 Pro- 2...     ₦ 167,900\n",
              "2   Hp 14 AMD ATHLON SILVER 8GB RAM 1TB HDD Window...     ₦ 166,500\n",
              "3   Hp 14-CF2206NIA LAPTOP (PENTIUM SILVER N5030/4...   ₦ 1,395,000\n",
              "4   Lenovo Ideapad Amd Dual Core 4GB RAM 1TB HDD 1...     ₦ 165,000\n",
              "5   Lenovo Ideapad 14inch AMD Quad Core 1TB HDD 8G...     ₦ 204,000\n",
              "6   Hp 15- Touchscreen Intel Core™ I3-10110U,8GB,1...     ₦ 199,920\n",
              "7   Hp Stream 11 Intel Celeron D/C  4GB RAM- 64GB ...     ₦ 180,000\n",
              "8   Anti Blue Rays,Anti Blue Light Blocking Glasse...     ₦ 155,950\n",
              "9   Lenovo Ideapad 14inch AMD Quad Core 1TB HDD 8G...     ₦ 183,500\n",
              "10  Lenovo Ideapad 15 - AMD QUAD CORE 1TB HDD 8GB ...     ₦ 268,000\n",
              "11  Lenovo IdeaPad S150 14\" AMD A6 4GB RAM 64GB EM...     ₦ 127,000\n",
              "12  Hp 15 10th Gen Intel Core I3 (12GB,1TB HDD)Tou...       ₦ 2,500\n",
              "13  Lenovo Ideapad  Intel Celeron 1TB HDD 8GB RAM ...     ₦ 173,500\n",
              "14  Hp Stream 11 Intel Celeron 2GB RAM- 32GB HDD W...     ₦ 168,000\n",
              "15  Hp Stream 11 Intel Celeron D/C  4GB RAM- 32GB ...     ₦ 149,150\n",
              "16  Hp 15 AMD - 12GB RAM 1TB HDD Windows 10 Pro- 2...     ₦ 264,500\n",
              "17  Hp 15-DW1207NIA LAPTOP (CEL-N4020/4GB/500GB/15...     ₦ 179,800\n",
              "18  Lenovo Ideapad 14 - AMD QUAD CORE 1TB HDD 4GB ...     ₦ 115,000\n",
              "19  Multifunctional Laptop Foldable Table,Bed Side...     ₦ 155,000\n",
              "20  Hp Stream 11 Intel Celeron D/C  4GB RAM- 64GB ...     ₦ 245,000\n",
              "21  Hp Stream 11 Intel Celeron D/C  4GB RAM- 32GB ...     ₦ 165,300\n",
              "22  Hp Notebook15 Intel Core I3 Touchscreen 16GB R...     ₦ 158,000\n",
              "23  Hp Stream 11 Pro- Intel Celeron- Education Edi...       ₦ 6,500\n",
              "24  Hp Stream 11 Intel Celeron D/C  4GB RAM- 64GB ...     ₦ 127,000\n",
              "25  Hp 15 AMD - 8GB RAM 1TB HDD Windows 10 Pro- 2....     ₦ 145,000\n",
              "26  Lenovo 14inch AMD Pro A6-7350B 1TB HDD 8GB RAM...     ₦ 277,000\n",
              "27  Hp Stream 11 Intel Celeron D/C  4GB RAM- 64GB ...     ₦ 127,000\n",
              "28  Hp Stream 11 Intel Celeron D/C  4GB RAM- 64GB ...     ₦ 127,000\n",
              "29  Hp Pavilion 15 Intel CELERON 4GB RAM 1TB HDD W...     ₦ 195,000\n",
              "30  Hp 15 Intel Celeron N4020 8GB RAM 1TB HDD 15.6...     ₦ 176,000\n",
              "31  Lenovo Ideapad  Intel Celeron 1TB HDD 4GB RAM ...     ₦ 127,000\n",
              "32  Hp Stream 11 Intel Celeron 4GB RAM / 64GB HDD ...     ₦ 125,000\n",
              "33  Hp AMD DUAL CORE 14'' 12GB RAM - 1TB HDD Windo...     ₦ 195,000\n",
              "34  Hp Stream11Intel Celeron(32gb Mmc,2gb RAM)\"11-...     ₦ 203,000\n",
              "35  Asus E410MA Intel Celeron 4GB RAM 128GB 14-Inc...     ₦ 163,000\n",
              "36  Hp Notebook 15 Intel Core I3 (4GB RAM, 1TB HDD...     ₦ 126,700\n",
              "37  Lenovo INTEL® CELERON® Lenovo 4GB RAM DDR4-1TB...     ₦ 200,000\n",
              "38  Hp 15 AMD - 12GB RAM 1TB HDD Windows 10 Pro- 2...     ₦ 126,000\n",
              "39  Lenovo Ideapad 15 - AMD QUAD CORE 1TB HDD 4GB ...     ₦ 154,990\n",
              "40                                                        ₦ 265,000\n",
              "41                                                        ₦ 165,459\n",
              "42                                                        ₦ 204,000\n",
              "43                                                        ₦ 158,000\n",
              "44                                                                 \n",
              "45                                                                 \n",
              "46                                                                 \n",
              "47                                                                 "
            ]
          },
          "metadata": {},
          "execution_count": 58
        }
      ]
    },
    {
      "cell_type": "code",
      "source": [
        ""
      ],
      "metadata": {
        "id": "SNlRmTK6Z0hK"
      },
      "execution_count": null,
      "outputs": []
    }
  ]
}